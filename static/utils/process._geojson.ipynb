{
 "cells": [
  {
   "cell_type": "code",
   "execution_count": 1,
   "metadata": {},
   "outputs": [
    {
     "name": "stdout",
     "output_type": "stream",
     "text": [
      "Archivo CSV creado con éxito.\n"
     ]
    }
   ],
   "source": [
    "import json\n",
    "import csv\n",
    "\n",
    "# Cargar el archivo GeoJSON\n",
    "with open(\"../data/chinstrap.geojson\", \"r\") as f:\n",
    "    data = json.load(f)\n",
    "\n",
    "# Extraer las coordenadas x (longitud) y y (latitud)\n",
    "coordenadas = []\n",
    "\n",
    "for feature in data[\"features\"]:\n",
    "    geometry = feature[\"geometry\"]\n",
    "    if geometry[\"type\"] == \"MultiPolygon\":\n",
    "        for polygon in geometry[\"coordinates\"]:\n",
    "            for ring in polygon:  # Cada anillo en el polígono\n",
    "                for coord in ring:  # Cada par [x, y] en el anillo\n",
    "                    x, y = coord\n",
    "                    coordenadas.append((x, y))\n",
    "\n",
    "# Crear el archivo CSV y escribir las coordenadas\n",
    "with open('../data/coordenadas_pinguiton_dec.csv', mode='w', newline='') as file:\n",
    "    writer = csv.writer(file)\n",
    "    \n",
    "    # Escribir la cabecera\n",
    "    writer.writerow([\"class\", \"x_center\", \"y_center\", \"width\", \"height\", \"tile\"])\n",
    "    \n",
    "    # Escribir los datos de cada coordenada\n",
    "    for x, y in coordenadas:\n",
    "        writer.writerow([0, x, y, 30, 30, \"NaN\"])\n",
    "\n",
    "print(\"Archivo CSV creado con éxito.\")\n"
   ]
  }
 ],
 "metadata": {
  "kernelspec": {
   "display_name": "myenv",
   "language": "python",
   "name": "python3"
  },
  "language_info": {
   "codemirror_mode": {
    "name": "ipython",
    "version": 3
   },
   "file_extension": ".py",
   "mimetype": "text/x-python",
   "name": "python",
   "nbconvert_exporter": "python",
   "pygments_lexer": "ipython3",
   "version": "3.12.3"
  }
 },
 "nbformat": 4,
 "nbformat_minor": 2
}
